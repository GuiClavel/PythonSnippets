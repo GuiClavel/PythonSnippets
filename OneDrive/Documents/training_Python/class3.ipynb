{
 "cells": [
  {
   "cell_type": "code",
   "execution_count": 10,
   "metadata": {},
   "outputs": [
    {
     "name": "stdout",
     "output_type": "stream",
     "text": [
      "12\n",
      "3561\n"
     ]
    }
   ],
   "source": [
    "# function to add digit at the end of number\n",
    "# example: add 1 to 356 -> answer: 3561\n",
    "# add 2 to 348 -> 3482\n",
    "\n",
    "def addition(number, digit):\n",
    "    operation= str(number)+str(digit)\n",
    "    return int(operation)\n",
    "\n",
    "addition_test=addition(356,1)\n",
    "print(addition_test)"
   ]
  },
  {
   "cell_type": "code",
   "execution_count": 13,
   "metadata": {},
   "outputs": [
    {
     "name": "stdout",
     "output_type": "stream",
     "text": [
      "3561\n"
     ]
    }
   ],
   "source": [
    "def addition2(number,digit):\n",
    "    answer = number*10 + digit\n",
    "    return answer\n",
    "\n",
    "print(addition2(356,1))\n"
   ]
  },
  {
   "cell_type": "code",
   "execution_count": 15,
   "metadata": {},
   "outputs": [
    {
     "name": "stdout",
     "output_type": "stream",
     "text": [
      "Milk\n"
     ]
    }
   ],
   "source": [
    "# data structures\n",
    "\n",
    "# lists\n",
    "\n",
    "market_items = ['Meat','Eggs','Milk','Vegetables']\n",
    "\n",
    "print(market_items[2])\n",
    "\n"
   ]
  },
  {
   "cell_type": "code",
   "execution_count": 16,
   "metadata": {},
   "outputs": [
    {
     "name": "stdout",
     "output_type": "stream",
     "text": [
      "['Meat', 'Eggs', 'Milk', 'Vegetables', 'Chicken', 'Pork', 'Toothbrush']\n"
     ]
    }
   ],
   "source": [
    "market_items2 = ['Chicken','Pork','Toothbrush']\n",
    "\n",
    "market_total = market_items + market_items2\n",
    "\n",
    "print(market_total)"
   ]
  },
  {
   "cell_type": "code",
   "execution_count": 18,
   "metadata": {},
   "outputs": [
    {
     "name": "stdout",
     "output_type": "stream",
     "text": [
      "['Meat', 'Eggs', 'Milk', 'Vegetables', 'Chicken', 'Pork', 'Toothbrush', 'Meat', 'Eggs', 'Milk', 'Vegetables', 'Chicken', 'Pork', 'Toothbrush']\n"
     ]
    }
   ],
   "source": [
    "#repeat\n",
    "\n",
    "market_total2 = market_total * 2\n",
    "\n",
    "print(market_total2)"
   ]
  },
  {
   "cell_type": "code",
   "execution_count": 19,
   "metadata": {},
   "outputs": [
    {
     "data": {
      "text/plain": [
       "1"
      ]
     },
     "execution_count": 19,
     "metadata": {},
     "output_type": "execute_result"
    }
   ],
   "source": [
    "list_country_EU = ['Spain','Portugal','Netherlands','Belgium']\n",
    "\n",
    "list_country_EU.index('Portugal')"
   ]
  },
  {
   "cell_type": "code",
   "execution_count": 20,
   "metadata": {},
   "outputs": [
    {
     "name": "stdout",
     "output_type": "stream",
     "text": [
      "['Spain', 'Portugal', 'Netherlands', 'Belgium', 'France']\n"
     ]
    }
   ],
   "source": [
    "list_country_EU.append('France')      #APPEND to the list\n",
    "\n",
    "print(list_country_EU)"
   ]
  },
  {
   "cell_type": "code",
   "execution_count": 22,
   "metadata": {},
   "outputs": [
    {
     "data": {
      "text/plain": [
       "True"
      ]
     },
     "execution_count": 22,
     "metadata": {},
     "output_type": "execute_result"
    }
   ],
   "source": [
    "'Spain' > 'France'"
   ]
  },
  {
   "cell_type": "code",
   "execution_count": 23,
   "metadata": {},
   "outputs": [
    {
     "name": "stdout",
     "output_type": "stream",
     "text": [
      "['Belgium', 'France', 'Netherlands', 'Portugal', 'Spain']\n"
     ]
    }
   ],
   "source": [
    "list_country_EU.sort()\n",
    "\n",
    "print(list_country_EU)"
   ]
  },
  {
   "cell_type": "code",
   "execution_count": 24,
   "metadata": {},
   "outputs": [
    {
     "name": "stdout",
     "output_type": "stream",
     "text": [
      "['Belgium', 'France', 'Netherlands', 'Spain']\n"
     ]
    }
   ],
   "source": [
    "list_country_EU.pop(3)\n",
    "\n",
    "print(list_country_EU)"
   ]
  },
  {
   "cell_type": "code",
   "execution_count": 35,
   "metadata": {},
   "outputs": [
    {
     "name": "stdout",
     "output_type": "stream",
     "text": [
      "45000000\n"
     ]
    }
   ],
   "source": [
    "# dictionaries\n",
    "\n",
    "# keys: values\n",
    "\n",
    "# word: definition\n",
    "\n",
    "Colombia = 45\n",
    "\n",
    "populations_countries ={\n",
    "    'Colombia': 45000000,\n",
    "    'Argentina': 32000000,\n",
    "    'France': 68000000,\n",
    "    'USA': 330000000,\n",
    "    '0': 1\n",
    "}\n",
    "\n",
    "print(populations_countries['Colombia'])"
   ]
  },
  {
   "cell_type": "code",
   "execution_count": 40,
   "metadata": {},
   "outputs": [
    {
     "name": "stdout",
     "output_type": "stream",
     "text": [
      "washington\n"
     ]
    }
   ],
   "source": [
    "country_capital ={\n",
    "    'colombia':'bogota',\n",
    "    'argentina':'buenos aires',\n",
    "    'france':'paris',\n",
    "    'usa':'washington'\n",
    "}\n",
    "print(country_capital[country])"
   ]
  },
  {
   "cell_type": "code",
   "execution_count": 49,
   "metadata": {},
   "outputs": [
    {
     "name": "stdout",
     "output_type": "stream",
     "text": [
      "9900.0\n",
      "14400.0\n"
     ]
    }
   ],
   "source": [
    "# function: a person has an income and lives in a countrylines\n",
    "# you'll have a dictionary with the tax rate of each country\n",
    "# given the name of the country, and the income, return how many taxes they have to pay\n",
    "\n",
    "tax_rates={\n",
    "    'colombia': 0.33,\n",
    "    'switzerland': 0.2,\n",
    "    'estonia': 0.2,\n",
    "    'canada': 0.48\n",
    "}\n",
    "\n",
    "def citizenTax(income,country):\n",
    "    country=tax_rates[country]\n",
    "    calculus=income*country\n",
    "    return calculus\n",
    "\n",
    "calculus_test=citizenTax(30000,'colombia')\n",
    "print(calculus_test)\n",
    "calculus_test=citizenTax(30000, 'canada')\n",
    "print(calculus_test)"
   ]
  },
  {
   "cell_type": "code",
   "execution_count": 47,
   "metadata": {},
   "outputs": [
    {
     "name": "stdout",
     "output_type": "stream",
     "text": [
      "800\n",
      "400\n"
     ]
    }
   ],
   "source": [
    "x = 200\n",
    "\n",
    "def multiply_by_2(x):\n",
    "    return x*2\n",
    "\n",
    "print(multiply_by_2(400))\n",
    "print(x*2)"
   ]
  },
  {
   "cell_type": "code",
   "execution_count": 51,
   "metadata": {},
   "outputs": [
    {
     "name": "stdout",
     "output_type": "stream",
     "text": [
      "15000\n"
     ]
    }
   ],
   "source": [
    "# function: a company sells a product\n",
    "# how much does the company get from selling a certain quantity of that product?\n",
    "\n",
    "price_by_product ={\n",
    "    'Barbie': 50,\n",
    "    'Wii': 300,\n",
    "    'Scooter': 500,\n",
    "    'Ken': 20\n",
    "}\n",
    "\n",
    "def sales(product,quantity):\n",
    "    product=price_by_product[product]\n",
    "    calculus_sales=product*quantity\n",
    "    return calculus_sales\n",
    "\n",
    "calculus_sales_test=sales('Scooter',30)\n",
    "print(calculus_sales_test)"
   ]
  },
  {
   "cell_type": "code",
   "execution_count": 52,
   "metadata": {},
   "outputs": [
    {
     "name": "stdout",
     "output_type": "stream",
     "text": [
      "40\n"
     ]
    }
   ],
   "source": [
    "# function: students dedicate a certain amount of hours per week to different subjects\n",
    "# given the name of the subject calculate the amount of hour per month\n",
    "subjects_time_per_week = {\n",
    "    'Math': 10,\n",
    "    'Science': 5,\n",
    "    'English': 6,\n",
    "    'Spanish': 2\n",
    "}\n",
    "\n",
    "def studies(topic):\n",
    "    topic=subjects_time_per_week[topic]\n",
    "    calculus=topic*4\n",
    "    return calculus\n",
    "\n",
    "calculus_test=studies('Math')\n",
    "print(calculus_test)"
   ]
  },
  {
   "cell_type": "code",
   "execution_count": 2,
   "metadata": {},
   "outputs": [
    {
     "name": "stdout",
     "output_type": "stream",
     "text": [
      "6.666666666666667\n"
     ]
    }
   ],
   "source": [
    "# function: a book has a number of words and a reader has a certain speed\n",
    "# given the book's name and the reader's speed, tell how many hours it will take for the reader to read it\n",
    "\n",
    "book_words={\n",
    "    '1984': 120000,\n",
    "    'Harry Potter': 70000,\n",
    "    \"L'etranger\": 80000,\n",
    "    'Momotaro': 20000\n",
    "}\n",
    "\n",
    "book_velocity={\n",
    "    'beginner_level': 900,       #words/hour\n",
    "    'intermediate_level': 3000,  #words/hour\n",
    "    'hardcore_level': 8000       #words/hour\n",
    "}\n",
    "\n",
    "def reading(words,velocity):\n",
    "    words = book_words[words]\n",
    "    velocity = book_velocity[velocity]\n",
    "    t = words / velocity                # t = time in hours needed to read the number of <words> based on the reader <velocity>\n",
    "    return t \n",
    "\n",
    "velocity_calculus = reading('Momotaro','intermediate_level')\n",
    "print(velocity_calculus)"
   ]
  },
  {
   "cell_type": "code",
   "execution_count": null,
   "metadata": {},
   "outputs": [],
   "source": []
  }
 ],
 "metadata": {
  "kernelspec": {
   "display_name": "Python 3.10.1 64-bit",
   "language": "python",
   "name": "python3"
  },
  "language_info": {
   "codemirror_mode": {
    "name": "ipython",
    "version": 3
   },
   "file_extension": ".py",
   "mimetype": "text/x-python",
   "name": "python",
   "nbconvert_exporter": "python",
   "pygments_lexer": "ipython3",
   "version": "3.10.1"
  },
  "orig_nbformat": 4,
  "vscode": {
   "interpreter": {
    "hash": "72a3bb8df10279286a26a17e9c59f5ea8adf7893f16867afb65addfae654e692"
   }
  }
 },
 "nbformat": 4,
 "nbformat_minor": 2
}
