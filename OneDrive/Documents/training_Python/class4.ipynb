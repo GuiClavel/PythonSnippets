{
 "cells": [
  {
   "cell_type": "code",
   "execution_count": 1,
   "metadata": {},
   "outputs": [
    {
     "name": "stdout",
     "output_type": "stream",
     "text": [
      "(1, 2, 3)\n"
     ]
    }
   ],
   "source": [
    "#data structure: tuple\n",
    "\n",
    "x = (1,2,3)\n",
    "\n",
    "# not mutable\n",
    "\n",
    "print(x)"
   ]
  },
  {
   "cell_type": "code",
   "execution_count": 4,
   "metadata": {},
   "outputs": [
    {
     "name": "stdout",
     "output_type": "stream",
     "text": [
      "[1, 4, 3]\n"
     ]
    }
   ],
   "source": [
    "# list\n",
    "y = [1,2,3]\n",
    "# mutable: change it's elements      (replace method for a list)\n",
    "y[1] = 4\n",
    "\n",
    "print(y)"
   ]
  },
  {
   "cell_type": "code",
   "execution_count": 6,
   "metadata": {},
   "outputs": [
    {
     "ename": "TypeError",
     "evalue": "'tuple' object does not support item assignment",
     "output_type": "error",
     "traceback": [
      "\u001b[0;31m---------------------------------------------------------------------------\u001b[0m",
      "\u001b[0;31mTypeError\u001b[0m                                 Traceback (most recent call last)",
      "\u001b[1;32m/home/diego/Documents/Preply/Will/class4.ipynb Cell 3\u001b[0m in \u001b[0;36m<cell line: 1>\u001b[0;34m()\u001b[0m\n\u001b[0;32m----> <a href='vscode-notebook-cell:/home/diego/Documents/Preply/Will/class4.ipynb#ch0000002?line=0'>1</a>\u001b[0m x[\u001b[39m1\u001b[39m] \u001b[39m=\u001b[39m \u001b[39m4\u001b[39m\n\u001b[1;32m      <a href='vscode-notebook-cell:/home/diego/Documents/Preply/Will/class4.ipynb#ch0000002?line=2'>3</a>\u001b[0m \u001b[39mprint\u001b[39m(x)\n",
      "\u001b[0;31mTypeError\u001b[0m: 'tuple' object does not support item assignment"
     ]
    }
   ],
   "source": [
    "x[1] = 4\n",
    "\n",
    "print(x)"
   ]
  },
  {
   "cell_type": "code",
   "execution_count": 9,
   "metadata": {},
   "outputs": [
    {
     "name": "stdout",
     "output_type": "stream",
     "text": [
      "1\n",
      "2\n"
     ]
    }
   ],
   "source": [
    "a, b = 1,2\n",
    "print(a)\n",
    "print(b)"
   ]
  },
  {
   "cell_type": "code",
   "execution_count": 11,
   "metadata": {},
   "outputs": [],
   "source": [
    "a = 1\n",
    "b = 2"
   ]
  },
  {
   "cell_type": "code",
   "execution_count": 10,
   "metadata": {},
   "outputs": [
    {
     "name": "stdout",
     "output_type": "stream",
     "text": [
      "(3, 4)\n"
     ]
    }
   ],
   "source": [
    "x = [(1,2),(3,4)]\n",
    "\n",
    "print(x[1])"
   ]
  },
  {
   "cell_type": "code",
   "execution_count": 13,
   "metadata": {},
   "outputs": [
    {
     "name": "stdout",
     "output_type": "stream",
     "text": [
      "9 20\n"
     ]
    }
   ],
   "source": [
    "def sum_prod(x,y):\n",
    "    return x+y, x*y\n",
    "\n",
    "\n",
    "suma,prod = sum_prod(4,5)\n",
    "\n",
    "print(suma,prod)"
   ]
  },
  {
   "cell_type": "code",
   "execution_count": 18,
   "metadata": {},
   "outputs": [
    {
     "name": "stdout",
     "output_type": "stream",
     "text": [
      "(4.8, 44)\n"
     ]
    }
   ],
   "source": [
    "products_by_price={\n",
    "    'Cookies': 1.2,\n",
    "    'Sandwich': 5,\n",
    "    'Soda': 3\n",
    "}\n",
    "\n",
    "total_sales={\n",
    "    'Cookies': 40, # number of cookies sold\n",
    "    'Sandwiches': 50,\n",
    "    'Soda': 48\n",
    "}\n",
    "\n",
    "# a function that given a product and a number to buy, returns the cost of the whole purchase and the new total sales of the product\n",
    "#  product FROM the dictionary\n",
    "# number to buy = new parameter\n",
    "# cost whole purchase = price per product * number to buy\n",
    "\n",
    "\n",
    "def sales(product,number):\n",
    "    price = products_by_price[product]\n",
    "    my_sales = total_sales[product]\n",
    "    cost_whole_purchase = price * number\n",
    "    new_total_sales = my_sales + number\n",
    "    return cost_whole_purchase, new_total_sales                    # return 2 results at a time\n",
    "\n",
    "print(sales('Cookies',4))"
   ]
  },
  {
   "cell_type": "code",
   "execution_count": 26,
   "metadata": {},
   "outputs": [
    {
     "name": "stdout",
     "output_type": "stream",
     "text": [
      "(533.3333333333334, 67.5)\n"
     ]
    }
   ],
   "source": [
    "gdp_by_country = {\n",
    "    'Colombia': 24,\n",
    "    'France': 100,\n",
    "    'Germany': 88,\n",
    "    'USA': 300\n",
    "}\n",
    "\n",
    "population = {\n",
    "    'Colombia': 45,\n",
    "    'France': 66,\n",
    "    'Germany': 60,\n",
    "    'USA': 324\n",
    "}\n",
    "\n",
    "# gdp is in billions of dollars\n",
    "# population is in millions of habitants\n",
    "# a function that returns the gdp per capita, and the population multiplied by 1.5 of a country\n",
    "\n",
    "# 1) gdp by country = gdp capita * population number   (considering the same units etc)\n",
    "# then: gpd capita = gdp country / population number\n",
    "# 2) new_population_total = population number * 1.5\n",
    "\n",
    "def calculus_gdp (parameter1):         #parameter1: which country from 1st dict. AND the 2nd one too\n",
    "    var_gdp = gdp_by_country[parameter1]\n",
    "    var_population = population[parameter1]\n",
    "    gdp_capita = (var_gdp*1000000000) / (var_population*1000000)          \n",
    "    new_population_total = var_population * 1.5   \n",
    "\n",
    "    return gdp_capita,new_population_total\n",
    "print(calculus_gdp('Colombia'))"
   ]
  },
  {
   "cell_type": "code",
   "execution_count": 1,
   "metadata": {},
   "outputs": [
    {
     "name": "stdout",
     "output_type": "stream",
     "text": [
      "(-16.6, -12.100000000000001)\n"
     ]
    }
   ],
   "source": [
    "# free fall\n",
    "# an object is sent upward with a velocity v_0 at a height h_0\n",
    "# h(t) = -g/2 * t^2 + v_0 * t + h_0\n",
    "# g = 9.8\n",
    "# v(t) = v_0 - g * t\n",
    "# what's the object velocity and height after time t?\n",
    "\n",
    "def physics(time,v_0,h_0): \n",
    "    g = 9.8\n",
    "    v = v_0 - g * time        \n",
    "    h = -g/2 * time**2 + v_0 * time + h_0\n",
    "    return v,h\n",
    "print(physics(2,3,1.5))\n"
   ]
  },
  {
   "cell_type": "code",
   "execution_count": null,
   "metadata": {},
   "outputs": [],
   "source": []
  }
 ],
 "metadata": {
  "kernelspec": {
   "display_name": "Python 3.10.1 64-bit",
   "language": "python",
   "name": "python3"
  },
  "language_info": {
   "codemirror_mode": {
    "name": "ipython",
    "version": 3
   },
   "file_extension": ".py",
   "mimetype": "text/x-python",
   "name": "python",
   "nbconvert_exporter": "python",
   "pygments_lexer": "ipython3",
   "version": "3.10.1"
  },
  "orig_nbformat": 4,
  "vscode": {
   "interpreter": {
    "hash": "72a3bb8df10279286a26a17e9c59f5ea8adf7893f16867afb65addfae654e692"
   }
  }
 },
 "nbformat": 4,
 "nbformat_minor": 2
}
