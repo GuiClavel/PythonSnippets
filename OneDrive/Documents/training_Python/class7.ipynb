{
 "cells": [
  {
   "cell_type": "code",
   "execution_count": 11,
   "metadata": {},
   "outputs": [
    {
     "name": "stdout",
     "output_type": "stream",
     "text": [
      "['05', '24', '2013']\n",
      "5 22 2013\n"
     ]
    }
   ],
   "source": [
    "# mm/dd/yyyy\n",
    "date = '05/24/2013'\n",
    "\n",
    "# month be in it's own variable\n",
    "var=date.split('/')\n",
    "date[0]\n",
    "print(var)\n",
    "\n",
    "newList=(var[0])\n",
    "newList=int(newList)\n",
    "newList2=(var[1])\n",
    "newList2=int(newList2)-2\n",
    "newList3=(var[2])\n",
    "newList3=int(newList3)\n",
    "print(newList,newList2,newList3)"
   ]
  },
  {
   "cell_type": "code",
   "execution_count": 14,
   "metadata": {},
   "outputs": [
    {
     "name": "stdout",
     "output_type": "stream",
     "text": [
      "5/22/2013\n"
     ]
    }
   ],
   "source": [
    "newList=str(newList)\n",
    "newList2=str(newList2)\n",
    "newList3=str(newList3)\n",
    "\n",
    "new_date = '/'.join([newList,newList2,newList3])\n",
    "print(new_date)"
   ]
  },
  {
   "cell_type": "code",
   "execution_count": 16,
   "metadata": {},
   "outputs": [
    {
     "name": "stdout",
     "output_type": "stream",
     "text": [
      "Diego is 20 years old\n"
     ]
    }
   ],
   "source": [
    "name = 'Diego'\n",
    "age = 20\n",
    "sentence = '{} is {} years old'.format(name,age)\n",
    "print(sentence)"
   ]
  },
  {
   "cell_type": "code",
   "execution_count": 4,
   "metadata": {},
   "outputs": [
    {
     "name": "stdout",
     "output_type": "stream",
     "text": [
      "test\n"
     ]
    }
   ],
   "source": [
    "var='test text'.split(' ')\n",
    "var2=var[0]\n",
    "print(var2)"
   ]
  },
  {
   "cell_type": "code",
   "execution_count": 3,
   "metadata": {},
   "outputs": [
    {
     "data": {
      "text/plain": [
       "'test text'"
      ]
     },
     "execution_count": 3,
     "metadata": {},
     "output_type": "execute_result"
    }
   ],
   "source": [
    "' '.join(['test', 'text'])"
   ]
  },
  {
   "cell_type": "code",
   "execution_count": null,
   "metadata": {},
   "outputs": [],
   "source": []
  }
 ],
 "metadata": {
  "kernelspec": {
   "display_name": "Python 3.10.5 64-bit",
   "language": "python",
   "name": "python3"
  },
  "language_info": {
   "codemirror_mode": {
    "name": "ipython",
    "version": 3
   },
   "file_extension": ".py",
   "mimetype": "text/x-python",
   "name": "python",
   "nbconvert_exporter": "python",
   "pygments_lexer": "ipython3",
   "version": "3.10.5"
  },
  "orig_nbformat": 4,
  "vscode": {
   "interpreter": {
    "hash": "72a3bb8df10279286a26a17e9c59f5ea8adf7893f16867afb65addfae654e692"
   }
  }
 },
 "nbformat": 4,
 "nbformat_minor": 2
}
