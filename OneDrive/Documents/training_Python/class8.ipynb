{
 "cells": [
  {
   "cell_type": "code",
   "execution_count": 3,
   "metadata": {},
   "outputs": [
    {
     "name": "stdout",
     "output_type": "stream",
     "text": [
      "The number is prime\n"
     ]
    }
   ],
   "source": [
    "# in: boolean\n",
    "\n",
    "prime_numbers = [2,3,5,7,9,11,13,17,19]\n",
    "\n",
    "number = 5\n",
    "\n",
    "if number in prime_numbers:\n",
    "    print('The number is prime')\n",
    "else:\n",
    "    print('The number is not prime')\n"
   ]
  },
  {
   "cell_type": "code",
   "execution_count": 5,
   "metadata": {},
   "outputs": [
    {
     "name": "stdout",
     "output_type": "stream",
     "text": [
      "Biden is in the sentence\n"
     ]
    }
   ],
   "source": [
    "# lists\n",
    "\n",
    "# strings\n",
    "\n",
    "president = 'Biden'\n",
    "\n",
    "sentence = 'Trump said make America great again'\n",
    "\n",
    "sentence = 'Trump was competing with Biden.'\n",
    "\n",
    "if president in sentence:\n",
    "    print('Biden is in the sentence')\n",
    "else:\n",
    "    print('Biden is not in the sentence')\n",
    "\n"
   ]
  },
  {
   "cell_type": "code",
   "execution_count": 6,
   "metadata": {},
   "outputs": [
    {
     "data": {
      "text/plain": [
       "2"
      ]
     },
     "execution_count": 6,
     "metadata": {},
     "output_type": "execute_result"
    }
   ],
   "source": [
    "sentence.count('e')"
   ]
  },
  {
   "cell_type": "code",
   "execution_count": 8,
   "metadata": {},
   "outputs": [
    {
     "data": {
      "text/plain": [
       "'trump was competing with biden.'"
      ]
     },
     "execution_count": 8,
     "metadata": {},
     "output_type": "execute_result"
    }
   ],
   "source": [
    "sentence.lower()"
   ]
  },
  {
   "cell_type": "code",
   "execution_count": 9,
   "metadata": {},
   "outputs": [
    {
     "name": "stdout",
     "output_type": "stream",
     "text": [
      "you are banned\n"
     ]
    }
   ],
   "source": [
    "# preply: paypal\n",
    "\n",
    "# paypal is in a message\n",
    "preplyAngry='hello, i want to by pass Preply by paying through Paypal'\n",
    "var_paypal='paypal'\n",
    "if  var_paypal in preplyAngry.lower():\n",
    "    print('you are banned')\n",
    "else: print('keep studying and paying us')"
   ]
  },
  {
   "cell_type": "code",
   "execution_count": 10,
   "metadata": {},
   "outputs": [
    {
     "name": "stdout",
     "output_type": "stream",
     "text": [
      "2\n",
      "4\n",
      "6\n",
      "8\n",
      "10\n"
     ]
    }
   ],
   "source": [
    "list_number = [1,2,3,4,5]\n",
    "\n",
    "# for loop in\n",
    "\n",
    "# x will take the value of a member of the list\n",
    "\n",
    "for x in list_number:\n",
    "    print(x*2)"
   ]
  },
  {
   "cell_type": "code",
   "execution_count": 11,
   "metadata": {},
   "outputs": [
    {
     "name": "stdout",
     "output_type": "stream",
     "text": [
      "24\n"
     ]
    }
   ],
   "source": [
    "# accumulator pattern\n",
    "\n",
    "# we start with a variable that is 'empty'\n",
    "\n",
    "# we 'accumulate' something until we get the result we want\n",
    "\n",
    "list_number = [2,5,7,10]\n",
    "\n",
    "# 0+k = k\n",
    "total=0\n",
    "for x in list_number:\n",
    "    total += x # total = total + x\n",
    "print(total)\n",
    "\n",
    "# -=\n",
    "# *=\n",
    "# /="
   ]
  },
  {
   "cell_type": "code",
   "execution_count": 14,
   "metadata": {},
   "outputs": [
    {
     "name": "stdout",
     "output_type": "stream",
     "text": [
      "700\n"
     ]
    }
   ],
   "source": [
    "# product\n",
    "\n",
    "# important to choose the correct initial value\n",
    "\n",
    "list_number = [2,5,7,10]\n",
    "# 1*k = k\n",
    "total2=1\n",
    "for y in list_number:\n",
    "    total2*=y\n",
    "print(total2)\n",
    "# 2*5*7*10 = 700"
   ]
  },
  {
   "cell_type": "code",
   "execution_count": 16,
   "metadata": {},
   "outputs": [
    {
     "name": "stdout",
     "output_type": "stream",
     "text": [
      "[4, 10, 14, 20]\n"
     ]
    }
   ],
   "source": [
    "# list tranformed\n",
    "\n",
    "list_number = [2,5,7,10]\n",
    "\n",
    "# list multiplied by 2\n",
    "# [4,10,14,20]\n",
    "\n",
    "accumulator = []\n",
    "for x in list_number:\n",
    "    accumulator.append(x*2)\n",
    "print(accumulator)"
   ]
  },
  {
   "cell_type": "code",
   "execution_count": 17,
   "metadata": {},
   "outputs": [
    {
     "name": "stdout",
     "output_type": "stream",
     "text": [
      "[-8, -5, -3, 0]\n"
     ]
    }
   ],
   "source": [
    "# find the list substracted by 10\n",
    "list_number = [2,5,7,10]\n",
    "# expected result: [-8,-5,-3,0]\n",
    "\n",
    "accumulator=[]\n",
    "for x in list_number:\n",
    "    accumulator.append(x-10)\n",
    "print(accumulator)"
   ]
  },
  {
   "cell_type": "code",
   "execution_count": 19,
   "metadata": {},
   "outputs": [
    {
     "name": "stdout",
     "output_type": "stream",
     "text": [
      "2\n",
      "6\n",
      "5\n",
      "15\n",
      "7\n",
      "14\n",
      "21\n",
      "10\n",
      "20\n",
      "30\n",
      "40\n"
     ]
    }
   ],
   "source": [
    "for x in list_number:\n",
    "    print(x)\n",
    "    if x > 5:\n",
    "        print(x*2)\n",
    "    print(x*3)\n",
    "print(x*4)"
   ]
  },
  {
   "cell_type": "code",
   "execution_count": 22,
   "metadata": {},
   "outputs": [
    {
     "name": "stdout",
     "output_type": "stream",
     "text": [
      "[10, 20, 55, 34, 55, 60]\n"
     ]
    }
   ],
   "source": [
    "# without using abs find the list of numbers in absolute values\n",
    "list_number=[10,-20,55,-34,-55,60]\n",
    "accumulate=[]\n",
    "for z in list_number:\n",
    "    z=int(z)\n",
    "    if z<0:\n",
    "        accumulate.append(z*-1)\n",
    "    else: accumulate.append(z*1)\n",
    "print(accumulate)\n"
   ]
  },
  {
   "cell_type": "code",
   "execution_count": 25,
   "metadata": {},
   "outputs": [
    {
     "name": "stdout",
     "output_type": "stream",
     "text": [
      "72 101 108 108 111 32 87 111 114 108 100 33 \n"
     ]
    }
   ],
   "source": [
    "# strings\n",
    "sentence = 'Hello World!'\n",
    "\n",
    "\n",
    "accumulator = ''\n",
    "for letter in sentence:\n",
    "    code = ord(letter) # get the number associated with the letter\n",
    "    code = str(code)\n",
    "    accumulator += code +' '\n",
    "print(accumulator)"
   ]
  },
  {
   "cell_type": "code",
   "execution_count": 14,
   "metadata": {},
   "outputs": [
    {
     "name": "stdout",
     "output_type": "stream",
     "text": [
      "C\n",
      "h\n",
      "b\n",
      "i\n",
      "c\n",
      "f\n",
      "o\n",
      "t\n",
      "m\n",
      "t\n"
     ]
    }
   ],
   "source": [
    "# sentence get every initial letter from the sentence\n",
    "sentence = 'Colombia has been in conflict for over too much time'\n",
    "# 'Chbicfotmt'\n",
    "# remember the split function\n",
    "var=sentence.split(' ')\n",
    "# print(var)\n",
    "\n",
    "for x in var:\n",
    "    # print(x)\n",
    "    display=x[0]\n",
    "    # print(display)\n",
    "    var2=' '.join(display)\n",
    "    print(var2)"
   ]
  },
  {
   "cell_type": "code",
   "execution_count": null,
   "metadata": {},
   "outputs": [],
   "source": []
  }
 ],
 "metadata": {
  "kernelspec": {
   "display_name": "Python 3.10.5 64-bit",
   "language": "python",
   "name": "python3"
  },
  "language_info": {
   "codemirror_mode": {
    "name": "ipython",
    "version": 3
   },
   "file_extension": ".py",
   "mimetype": "text/x-python",
   "name": "python",
   "nbconvert_exporter": "python",
   "pygments_lexer": "ipython3",
   "version": "3.10.5"
  },
  "orig_nbformat": 4,
  "vscode": {
   "interpreter": {
    "hash": "72a3bb8df10279286a26a17e9c59f5ea8adf7893f16867afb65addfae654e692"
   }
  }
 },
 "nbformat": 4,
 "nbformat_minor": 2
}
