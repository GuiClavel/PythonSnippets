{
 "cells": [
  {
   "cell_type": "code",
   "execution_count": 2,
   "metadata": {},
   "outputs": [
    {
     "data": {
      "text/plain": [
       "2.0"
      ]
     },
     "execution_count": 2,
     "metadata": {},
     "output_type": "execute_result"
    }
   ],
   "source": [
    "# data types\n",
    "\n",
    "2.0\n",
    "\n",
    "boolean = True #False\n",
    "\n",
    "6\n"
   ]
  },
  {
   "cell_type": "code",
   "execution_count": 5,
   "metadata": {},
   "outputs": [
    {
     "name": "stdout",
     "output_type": "stream",
     "text": [
      "This are a string\n"
     ]
    }
   ],
   "source": [
    "var = 'This is a string'\n",
    "var = var.replace(' is ', ' are ')\n",
    "print(var)"
   ]
  },
  {
   "cell_type": "code",
   "execution_count": 6,
   "metadata": {},
   "outputs": [
    {
     "name": "stdout",
     "output_type": "stream",
     "text": [
      "Hello World! I'm Will\n"
     ]
    }
   ],
   "source": [
    "string1 = 'Hello World!'\n",
    "string2 = \"I'm Will\"\n",
    "\n",
    "var2 = string1 + ' ' + string2\n",
    "print(var2)"
   ]
  },
  {
   "cell_type": "code",
   "execution_count": 7,
   "metadata": {},
   "outputs": [
    {
     "name": "stdout",
     "output_type": "stream",
     "text": [
      "Hello World!Hello World!Hello World!Hello World!Hello World!Hello World!Hello World!Hello World!Hello World!Hello World!\n"
     ]
    }
   ],
   "source": [
    "print(string1 *10)"
   ]
  },
  {
   "cell_type": "code",
   "execution_count": 9,
   "metadata": {},
   "outputs": [
    {
     "name": "stdout",
     "output_type": "stream",
     "text": [
      "Will is 37 years old. They work in UQAM as CTO.\n"
     ]
    }
   ],
   "source": [
    "paragraph = '{} is {} years old. They {} in {} as {}.'\n",
    "\n",
    "name = 'Will'\n",
    "\n",
    "age = 37\n",
    "\n",
    "activity = 'work'\n",
    "\n",
    "institution = 'UQAM'\n",
    "\n",
    "career = 'CTO'\n",
    "\n",
    "#method: format\n",
    "will = paragraph.format(name,age,activity,institution,career)\n",
    "\n",
    "print(will)"
   ]
  },
  {
   "cell_type": "code",
   "execution_count": 11,
   "metadata": {},
   "outputs": [
    {
     "name": "stdout",
     "output_type": "stream",
     "text": [
      "Diego is 37 years old. They study in Uniandes as Mathematician.\n"
     ]
    }
   ],
   "source": [
    "name = 'Diego'\n",
    "\n",
    "age = 37\n",
    "\n",
    "activity = 'study'\n",
    "\n",
    "institution = 'Uniandes'\n",
    "\n",
    "career = 'Mathematician'\n",
    "\n",
    "#\n",
    "diego = paragraph.format(name,age,activity,institution,career)\n",
    "print(diego)"
   ]
  },
  {
   "cell_type": "code",
   "execution_count": 14,
   "metadata": {},
   "outputs": [
    {
     "name": "stdout",
     "output_type": "stream",
     "text": [
      "the guy earns 6000$ a month but needs to pay around 4000$ in some duties, which remains: 2000$\n"
     ]
    }
   ],
   "source": [
    "income = 6000\n",
    "costs = 4000\n",
    "cashflow = income - costs\n",
    "\n",
    "text_cashflow = 'the guy earns {}$ a month but needs to pay around {}$ in some duties, which remains: {}$'\n",
    "final_cashflow = text_cashflow.format(income,costs,cashflow)\n",
    "print(final_cashflow)\n"
   ]
  },
  {
   "cell_type": "code",
   "execution_count": 15,
   "metadata": {},
   "outputs": [
    {
     "name": "stdout",
     "output_type": "stream",
     "text": [
      "21.132713440405748\n",
      "25.95155709342561\n"
     ]
    }
   ],
   "source": [
    "#def: keyword that says it is a function\n",
    "#bmi: the name of the function. It can be any name\n",
    "#(weight,height): parameters. They are what we can pass to the function when we call it\n",
    "# return: what the function gives back \n",
    "\n",
    "def bmi(weight, height):\n",
    "    body_max_index = weight / height ** 2\n",
    "    return body_max_index\n",
    "\n",
    "bmi_diego = bmi(70,1.82)\n",
    "bmi_erich = bmi(75, 1.70)\n",
    "\n",
    "print(bmi_diego)\n",
    "print(bmi_erich)"
   ]
  },
  {
   "cell_type": "code",
   "execution_count": 19,
   "metadata": {},
   "outputs": [
    {
     "name": "stdout",
     "output_type": "stream",
     "text": [
      "37.77777777777778\n",
      "10.0\n"
     ]
    }
   ],
   "source": [
    "# function to convert farenheit to celsius      \n",
    "# input: farenheit\n",
    "# output: celsius\n",
    "def convert(farenheit):\n",
    "    C =(farenheit-32)*(5/9)\n",
    "    return C\n",
    "\n",
    "convert_summer=convert(100)\n",
    "convert_winter=convert(50)\n",
    "\n",
    "print(convert_summer)\n",
    "print(convert_winter)"
   ]
  },
  {
   "cell_type": "code",
   "execution_count": 20,
   "metadata": {},
   "outputs": [
    {
     "name": "stdout",
     "output_type": "stream",
     "text": [
      "160.9\n"
     ]
    }
   ],
   "source": [
    "#function to convert miles to kilometers    *1.609\n",
    "\n",
    "def convert_distance(miles):\n",
    "    kms=miles*1.609\n",
    "    return kms\n",
    "\n",
    "convert_distance_run = convert_distance(100)\n",
    "\n",
    "print(convert_distance_run)  "
   ]
  },
  {
   "cell_type": "code",
   "execution_count": 22,
   "metadata": {},
   "outputs": [
    {
     "name": "stdout",
     "output_type": "stream",
     "text": [
      "2.0\n"
     ]
    }
   ],
   "source": [
    "#function to get time from distance and velocity   v=d/t   t=d/v\n",
    "\n",
    "def time(distance,velocity):\n",
    "    t=distance/velocity\n",
    "    return t\n",
    "\n",
    "time_fastTest = time(20,10)\n",
    "\n",
    "print(time_fastTest)\n"
   ]
  },
  {
   "cell_type": "code",
   "execution_count": null,
   "metadata": {},
   "outputs": [],
   "source": [
    "\n",
    "#let the debt sit 5 years\n",
    "# (1 + monthly_interest)**12 = (1+yearly_interest)\n",
    "# monthly_interest = (1+yearly_interst)**(1/12) - 1"
   ]
  },
  {
   "cell_type": "code",
   "execution_count": 24,
   "metadata": {},
   "outputs": [
    {
     "name": "stdout",
     "output_type": "stream",
     "text": [
      "918.9247541879554\n"
     ]
    }
   ],
   "source": [
    "#function: a loan of annual payments. Given the amount of money loaned, the efective annual interest rate,\n",
    "#and the years to pay the loan, give the payment each month\n",
    "#    (12 payments per year)       during Y years        regarding  X$ overall       with  % rate    =>  how much to pay each month  $$\n",
    "\n",
    "# payback = (C * i) / (1 - (1+i)^(-n))\n",
    "#  n is the total number of paybacks = 12 * years\n",
    "#  interests are exponential          \n",
    "\n",
    "def cashPayback(years,loan,rate):\n",
    "    n = 12 * years\n",
    "    rate = (1+rate)**(1/12) - 1\n",
    "    payback = (loan*rate) / (1 -(1+rate)**(-n))\n",
    "    return payback \n",
    "    \n",
    "\n",
    "print(cashPayback(2,20000,0.1))\n"
   ]
  },
  {
   "cell_type": "code",
   "execution_count": 2,
   "metadata": {},
   "outputs": [
    {
     "name": "stdout",
     "output_type": "stream",
     "text": [
      "200000000000\n"
     ]
    }
   ],
   "source": [
    "# function gdp of a country, and population. Calculate the gdp per capita\n",
    "# population number x personal economy = global GDP\n",
    "\n",
    "def gdp(population,personal_economy):\n",
    "    global_GDP=population*personal_economy\n",
    "    return global_GDP\n",
    "\n",
    "global_GDP_example=gdp(10000000,20000)\n",
    "print(global_GDP_example)\n",
    "\n"
   ]
  },
  {
   "cell_type": "code",
   "execution_count": null,
   "metadata": {},
   "outputs": [],
   "source": []
  }
 ],
 "metadata": {
  "kernelspec": {
   "display_name": "Python 3.10.1 64-bit",
   "language": "python",
   "name": "python3"
  },
  "language_info": {
   "codemirror_mode": {
    "name": "ipython",
    "version": 3
   },
   "file_extension": ".py",
   "mimetype": "text/x-python",
   "name": "python",
   "nbconvert_exporter": "python",
   "pygments_lexer": "ipython3",
   "version": "3.10.1"
  },
  "orig_nbformat": 4,
  "vscode": {
   "interpreter": {
    "hash": "72a3bb8df10279286a26a17e9c59f5ea8adf7893f16867afb65addfae654e692"
   }
  }
 },
 "nbformat": 4,
 "nbformat_minor": 2
}
