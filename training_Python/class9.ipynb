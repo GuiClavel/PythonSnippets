{
 "cells": [
  {
   "cell_type": "code",
   "execution_count": 1,
   "metadata": {},
   "outputs": [
    {
     "name": "stdout",
     "output_type": "stream",
     "text": [
      "Both are positive\n"
     ]
    }
   ],
   "source": [
    "x = 2\n",
    "\n",
    "y = 3\n",
    "\n",
    "if x > 0 and y > 0:\n",
    "    print(\"Both are positive\")\n",
    "\n",
    "# and: it only returns true, if both are true"
   ]
  },
  {
   "cell_type": "code",
   "execution_count": null,
   "metadata": {},
   "outputs": [],
   "source": [
    "#listwise and\n",
    "list_booleans = [True,False,True,True, True]\n",
    "# solution 1\n",
    "if list_booleans == ([True] * len(list_booleans)):\n",
    "    pass\n",
    "#solution 2\n",
    "if False in list_booleans:\n",
    "    pass\n",
    "#solution 3\n",
    "whole_list = True\n",
    "for x in whole_list:\n",
    "    whole_list = whole_list and x\n",
    "print(whole_list)\n",
    "#solution 4\n",
    "whole_list_true = True\n",
    "for x in whole_list_true:\n",
    "    if x == False:\n",
    "        whole_list_true = False\n"
   ]
  },
  {
   "cell_type": "code",
   "execution_count": 2,
   "metadata": {},
   "outputs": [
    {
     "name": "stdout",
     "output_type": "stream",
     "text": [
      "15\n"
     ]
    }
   ],
   "source": [
    "list_numbers = [1,3,2,8,5,15,7,10,12]\n",
    "maximum=0\n",
    "# use a for loop to find the maximum value\n",
    "# using the max function isn't allowed\n",
    "\n",
    "for x in list_numbers:\n",
    "    if x >= maximum:\n",
    "        maximum=x\n",
    "print(maximum)        "
   ]
  },
  {
   "cell_type": "code",
   "execution_count": 3,
   "metadata": {},
   "outputs": [
    {
     "name": "stdout",
     "output_type": "stream",
     "text": [
      "[1, 2, 3, 4, 5, 6, 7, 8, 9, 10, 11, 12, 13, 14, 15, 16, 17, 18, 19, 20, 21, 22, 23, 24, 25, 26, 27, 28, 29, 30, 31, 32, 33, 34, 35, 36, 37, 38, 39, 40, 41, 42, 43, 44, 45, 46, 47, 48, 49, 50, 51, 52, 53, 54, 55, 56, 57, 58, 59, 60, 61, 62, 63, 64, 65, 66, 67, 68, 69, 70, 71, 72, 73, 74, 75, 76, 77, 78, 79, 80, 81, 82, 83, 84, 85, 86, 87, 88, 89, 90, 91, 92, 93, 94, 95, 96, 97, 98, 99]\n"
     ]
    }
   ],
   "source": [
    "n = 100\n",
    "i = 1\n",
    "list_100 = []\n",
    "while i < n:\n",
    "    list_100.append(i)\n",
    "    i+=1\n",
    "print(list_100)"
   ]
  },
  {
   "cell_type": "code",
   "execution_count": 5,
   "metadata": {},
   "outputs": [
    {
     "name": "stdout",
     "output_type": "stream",
     "text": [
      "[1, 2, 3, 4, 5, 6, 7, 8, 9, 10, 11, 12, 13, 14, 15, 16, 17, 18, 19, 20, 21, 22, 23, 24, 25, 26, 27, 28, 29, 30, 31, 32, 33, 34, 35, 36, 37, 38, 39, 40, 41, 42, 43, 44, 45, 46, 47, 48, 49, 50, 51, 52, 53, 54, 55, 56, 57, 58, 59, 60, 61, 62, 63, 64, 65, 66, 67, 68, 69, 70, 71, 72, 73, 74, 75, 76, 77, 78, 79, 80, 81, 82, 83, 84, 85, 86, 87, 88, 89, 90, 91, 92, 93, 94, 95, 96, 97, 98, 99]\n"
     ]
    }
   ],
   "source": [
    "list_100 = []\n",
    "for i in range(1, 100):\n",
    "    list_100.append(i)\n",
    "print(list_100)"
   ]
  },
  {
   "cell_type": "code",
   "execution_count": 6,
   "metadata": {},
   "outputs": [
    {
     "name": "stdout",
     "output_type": "stream",
     "text": [
      "3\n"
     ]
    }
   ],
   "source": [
    "# greatest common divisor\n",
    "# the biggest number that divides two numbers (integer division)\n",
    "# g.c.d(15,9) = 3\n",
    "\n",
    "# 15 -> 1,3,5,15\n",
    "# 9 -> 1,3,9\n",
    "# -> 1,3\n",
    "\n",
    "# prime numbers -> secure information\n",
    "# greatest common divisor -> checks if a number is prime or not\n",
    "\n",
    "# 7 -> 1, 7\n",
    "\n",
    "# g.c.d(a,b)\n",
    "\n",
    "# a = bq + r\n",
    "# 0 <= r < b\n",
    "# q = a // b\n",
    "# r = a % b\n",
    "\n",
    "# 20 = 3(6) + 2\n",
    "\n",
    "# g.c.d(a,b) = g.c.d(b,r)\n",
    "# b != 0\n",
    "# g.c.d(0,b) = b\n",
    "\n",
    "# euclides algorithm\n",
    "\n",
    "# g.c.d(a,b)\n",
    "\n",
    "# g.c.d(b,r1)\n",
    "\n",
    "# g.c.d(r1,r2)\n",
    "\n",
    "a = 24\n",
    "b = 15\n",
    "r = a % b\n",
    "while r != 0:\n",
    "    a = b\n",
    "    b = r\n",
    "    r = a % b\n",
    "print(b)\n"
   ]
  },
  {
   "cell_type": "code",
   "execution_count": null,
   "metadata": {},
   "outputs": [],
   "source": []
  }
 ],
 "metadata": {
  "kernelspec": {
   "display_name": "Python 3.10.5 64-bit",
   "language": "python",
   "name": "python3"
  },
  "language_info": {
   "codemirror_mode": {
    "name": "ipython",
    "version": 3
   },
   "file_extension": ".py",
   "mimetype": "text/x-python",
   "name": "python",
   "nbconvert_exporter": "python",
   "pygments_lexer": "ipython3",
   "version": "3.10.5"
  },
  "orig_nbformat": 4,
  "vscode": {
   "interpreter": {
    "hash": "e7370f93d1d0cde622a1f8e1c04877d8463912d04d973331ad4851f04de6915a"
   }
  }
 },
 "nbformat": 4,
 "nbformat_minor": 2
}
