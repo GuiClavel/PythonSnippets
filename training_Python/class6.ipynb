{
 "cells": [
  {
   "cell_type": "code",
   "execution_count": 5,
   "metadata": {},
   "outputs": [
    {
     "name": "stdout",
     "output_type": "stream",
     "text": [
      "You are underweight!\n",
      "Hello\n",
      "Bye\n"
     ]
    }
   ],
   "source": [
    "height = 1.82\n",
    "weight = 40\n",
    "\n",
    "bmi = weight / height**2\n",
    "\n",
    "# <18 underweight\n",
    "# 25> obese\n",
    "\n",
    "if bmi < 18:\n",
    "    print(\"You are underweight!\")\n",
    "elif bmi < 20:\n",
    "    print(\"You are normal but...\")\n",
    "elif bmi < 25:\n",
    "    print(\"You are normal\")\n",
    "else:\n",
    "    print(\"You are obese\")\n"
   ]
  },
  {
   "cell_type": "code",
   "execution_count": 9,
   "metadata": {},
   "outputs": [
    {
     "name": "stdout",
     "output_type": "stream",
     "text": [
      "it's excellent\n"
     ]
    }
   ],
   "source": [
    "grade = 4.51\n",
    "\n",
    "# 1-5\n",
    "\n",
    "# <3 it's insufficient\n",
    "# <4 acceptable\n",
    "# 4.5> excelent\n",
    "# REPLACE pass with your code\n",
    "if grade<3:\n",
    "    print(\"it's insufficient\")\n",
    "elif grade<4:\n",
    "    print(\"it's acceptable\")\n",
    "elif grade>4.5:\n",
    "    print(\"it's excellent\")\n"
   ]
  },
  {
   "cell_type": "code",
   "execution_count": 13,
   "metadata": {},
   "outputs": [
    {
     "name": "stdout",
     "output_type": "stream",
     "text": [
      "[0, 1, 2, 3, 4, 5] 2.75\n",
      "[0, 1, 2, 3, 4, 5] 2.5\n"
     ]
    }
   ],
   "source": [
    "# average\n",
    "# mean\n",
    "# median\n",
    "\n",
    "# list_grades_odd = [1,1,2,2.5,2.5,2.75,5,5,5]\n",
    "# 2.5\n",
    "\n",
    "#list_grades_even = [1,1,2,2.5,2.5,2.75,5,5]\n",
    "\n",
    "#(list_grades_even[8/2] + list_grades_even[(8-1)/2])/2\n",
    "\n",
    "\n",
    "def median(list_grades):\n",
    "    # REPLACE pass with your code\n",
    "    n = len(list_grades)\n",
    "    median_even=((n/2)+((n-1)/2))/2\n",
    "    median_odd=(n-1)/2\n",
    "\n",
    "assert median([0,1,2,3,4,5]) == 2.5\n",
    "\n",
    "assert median([0,2,3]) == 2\n",
    "\n",
    "assert median([1,1,2,2.5,2.5,2.75,5,5,5]) == 2.5\n",
    "\n",
    "assert median([1,1,2,2.5,2.75,2.75,5,5]) == (2.5+2.75)/2\n"
   ]
  },
  {
   "cell_type": "code",
   "execution_count": 20,
   "metadata": {},
   "outputs": [
    {
     "name": "stdout",
     "output_type": "stream",
     "text": [
      "Hello World!\n"
     ]
    }
   ],
   "source": [
    "# float, integer, boolean, string\n",
    "\n",
    "\n",
    "# addition, substraction, multiplication, division, exponent, remainder, integer division\n",
    "\n",
    "n = 10\n",
    "\n",
    "n % 2 == 0 # n is divisble by 2\n",
    "\n",
    "sentence = 'Hello World!'\n",
    "sentence.replace(\"Hello\",\"test\")\n",
    "words = sentence.split(' ')\n",
    "sentence = ' '.join(words)\n",
    "\n",
    "print(sentence)\n"
   ]
  },
  {
   "cell_type": "code",
   "execution_count": null,
   "metadata": {},
   "outputs": [],
   "source": [
    "    a = [5, 10, 15, 20, 25]\n",
    "    print(*a)"
   ]
  },
  {
   "cell_type": "code",
   "execution_count": null,
   "metadata": {},
   "outputs": [],
   "source": []
  }
 ],
 "metadata": {
  "kernelspec": {
   "display_name": "Python 3.10.5 64-bit",
   "language": "python",
   "name": "python3"
  },
  "language_info": {
   "codemirror_mode": {
    "name": "ipython",
    "version": 3
   },
   "file_extension": ".py",
   "mimetype": "text/x-python",
   "name": "python",
   "nbconvert_exporter": "python",
   "pygments_lexer": "ipython3",
   "version": "3.10.5"
  },
  "orig_nbformat": 4,
  "vscode": {
   "interpreter": {
    "hash": "72a3bb8df10279286a26a17e9c59f5ea8adf7893f16867afb65addfae654e692"
   }
  }
 },
 "nbformat": 4,
 "nbformat_minor": 2
}
